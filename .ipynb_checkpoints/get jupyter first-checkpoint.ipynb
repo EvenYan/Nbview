{
 "cells": [
  {
   "cell_type": "markdown",
   "metadata": {
    "toc": "true"
   },
   "source": [
    "# Table of Contents\n",
    " <p><div class=\"lev2 toc-item\"><a href=\"#环境\" data-toc-modified-id=\"环境-01\"><span class=\"toc-item-num\">0.1&nbsp;&nbsp;</span>环境</a></div><div class=\"lev3 toc-item\"><a href=\"#安装\" data-toc-modified-id=\"安装-011\"><span class=\"toc-item-num\">0.1.1&nbsp;&nbsp;</span>安装</a></div><div class=\"lev3 toc-item\"><a href=\"#运行\" data-toc-modified-id=\"运行-012\"><span class=\"toc-item-num\">0.1.2&nbsp;&nbsp;</span>运行</a></div><div class=\"lev3 toc-item\"><a href=\"#组态\" data-toc-modified-id=\"组态-013\"><span class=\"toc-item-num\">0.1.3&nbsp;&nbsp;</span>组态</a></div><div class=\"lev3 toc-item\"><a href=\"#工作目录\" data-toc-modified-id=\"工作目录-014\"><span class=\"toc-item-num\">0.1.4&nbsp;&nbsp;</span>工作目录</a></div><div class=\"lev3 toc-item\"><a href=\"#Nbextension\" data-toc-modified-id=\"Nbextension-015\"><span class=\"toc-item-num\">0.1.5&nbsp;&nbsp;</span>Nbextension</a></div><div class=\"lev2 toc-item\"><a href=\"#PDF输出\" data-toc-modified-id=\"PDF输出-02\"><span class=\"toc-item-num\">0.2&nbsp;&nbsp;</span>PDF输出</a></div><div class=\"lev3 toc-item\"><a href=\"#文档页面-file-download-as-PDF，报错:\" data-toc-modified-id=\"文档页面-file-download-as-PDF，报错:-021\"><span class=\"toc-item-num\">0.2.1&nbsp;&nbsp;</span>文档页面-file-download as-PDF，报错:</a></div><div class=\"lev3 toc-item\"><a href=\"#输出中文PDF报错:\" data-toc-modified-id=\"输出中文PDF报错:-022\"><span class=\"toc-item-num\">0.2.2&nbsp;&nbsp;</span>输出中文PDF报错:</a></div><div class=\"lev3 toc-item\"><a href=\"#中文符号\" data-toc-modified-id=\"中文符号-023\"><span class=\"toc-item-num\">0.2.3&nbsp;&nbsp;</span>中文符号</a></div><div class=\"lev3 toc-item\"><a href=\"#Latex公式语句\" data-toc-modified-id=\"Latex公式语句-024\"><span class=\"toc-item-num\">0.2.4&nbsp;&nbsp;</span>Latex公式语句</a></div><div class=\"lev2 toc-item\"><a href=\"#快捷键\" data-toc-modified-id=\"快捷键-03\"><span class=\"toc-item-num\">0.3&nbsp;&nbsp;</span>快捷键</a></div><div class=\"lev2 toc-item\"><a href=\"#Jupyter-Magic:\" data-toc-modified-id=\"Jupyter-Magic:-04\"><span class=\"toc-item-num\">0.4&nbsp;&nbsp;</span>Jupyter Magic:</a></div>"
   ]
  },
  {
   "cell_type": "markdown",
   "metadata": {
    "collapsed": true
   },
   "source": [
    "\n",
    "## 环境\n",
    "\n",
    "### 安装\n",
    "pip install jupyter notebook  \n",
    "\n",
    "### 运行\n",
    "jupyter notebook \n",
    ",此时浏览器打开文件目录页面\n",
    "\n",
    "### 组态\n",
    "jupyter notebook-generate-config #新建py组态文件，组态选线参考https://jupyter-notebook.readthedocs.io/en/latest/config.html\n",
    "\n",
    "### 工作目录\n",
    "ipython_notebook_config.py文件中,更改notebook_dir值,取消注释\n",
    "\n",
    "c.NotebookApp.notebook_dir = u'F:/jupyterDoc'\n",
    "\n",
    "### Nbextension\n",
    "\n",
    "pip install jupyter_contrib_nbextensions #安装jupyter_contrib_nbextensions,包含jupyter 扩展包的列表\n",
    "\n",
    "jupyter contrib nbextension install --user #将nbextensions的js/ccs文件复制到jupyter服务器,并修改组态文件，Home页面新增nbextensions\n",
    "\n",
    "勾选Table of Contents(2)   #打开文本即有目录功能"
   ]
  },
  {
   "cell_type": "markdown",
   "metadata": {},
   "source": [
    "\n",
    "\n",
    "## PDF输出"
   ]
  },
  {
   "cell_type": "markdown",
   "metadata": {
    "collapsed": true
   },
   "source": [
    "### 文档页面-file-download as-PDF，报错:\n",
    "\n",
    "500 : Internal Server Error \n",
    "nbconvert failed: pdflatex not found on PATH "
   ]
  },
  {
   "cell_type": "markdown",
   "metadata": {},
   "source": [
    "1. 安装miktex，完成更新\n",
    "\n",
    "2. pip install pandoc #之后测试无需此步\n",
    "\n",
    "3. 正常输出无中文PDF"
   ]
  },
  {
   "cell_type": "markdown",
   "metadata": {
    "collapsed": true
   },
   "source": [
    "### 输出中文PDF报错:\n",
    "\n",
    "500 : Internal Server Error\n",
    "The error was:\n",
    "nbconvert failed: Pandoc wasn't found.\n",
    "Please check that pandoc is installed:\n",
    "http://pandoc.org/installing.html\n",
    "    "
   ]
  },
  {
   "cell_type": "markdown",
   "metadata": {},
   "source": [
    "1. 尝试修改[article.tplx](http://www.cnblogs.com/SC-CS/archive/2015/10/09/Jupyter-PDF_Chinese_Support.html) 无效\n",
    "\n",
    "2. 安装[Pandoc](http://pandoc.org/installing.html) 添加环境变量 还是不行\n",
    "\n",
    "3. 了解Tex、LaTex、MikTex\n",
    "\n",
    "4. 重启后正常导出"
   ]
  },
  {
   "cell_type": "markdown",
   "metadata": {
    "collapsed": true
   },
   "source": [
    "### 中文符号\n",
    "\n",
    "：，。’ 会加上红框\n",
    "\n",
    "/ 会引起报错,无法输出\n",
    "\n",
    "暂未找到解决办法"
   ]
  },
  {
   "cell_type": "markdown",
   "metadata": {},
   "source": [
    "### Latex公式语句\n",
    "\n",
    "$$P(A\\mid B)=\\frac{P(B\\mid A),P(A)}{P(B)}$$"
   ]
  },
  {
   "cell_type": "markdown",
   "metadata": {},
   "source": [
    "\n",
    "## 快捷键\n",
    "\n",
    "命令模式按H。  Esc  H\n",
    "\n",
    "菜单。Help - Keyboard shortcuts"
   ]
  },
  {
   "cell_type": "markdown",
   "metadata": {},
   "source": [
    "\n",
    "## Jupyter Magic:"
   ]
  },
  {
   "cell_type": "code",
   "execution_count": 2,
   "metadata": {
    "collapsed": true
   },
   "outputs": [],
   "source": [
    "\n",
    "?str.strip() #运行显示帮助"
   ]
  },
  {
   "cell_type": "code",
   "execution_count": 12,
   "metadata": {},
   "outputs": [
    {
     "name": "stdout",
     "output_type": "stream",
     "text": [
      "a\t b\t \n",
      "b\t \n"
     ]
    }
   ],
   "source": [
    "a=1\n",
    "b='abc'\n",
    "%who\n",
    "#列出所有的全局变量\n",
    "%who str\n",
    "#列出所有字符类型全局变量"
   ]
  },
  {
   "cell_type": "code",
   "execution_count": 13,
   "metadata": {},
   "outputs": [
    {
     "name": "stdout",
     "output_type": "stream",
     "text": [
      "6.38 µs ± 342 ns per loop (mean ± std. dev. of 7 runs, 100000 loops each)\n"
     ]
    }
   ],
   "source": [
    "#自动多次执行以产生一个非常精确的平均执行时间。\n",
    "import numpy\n",
    "%timeit numpy.random.normal(size=100)"
   ]
  },
  {
   "cell_type": "code",
   "execution_count": 15,
   "metadata": {},
   "outputs": [
    {
     "name": "stdout",
     "output_type": "stream",
     "text": [
      "Wall time: 1.41 s\n"
     ]
    }
   ],
   "source": [
    "#执行一条语句，然后报告总体执行时间\n",
    "%%time\n",
    "import time\n",
    "for i in range(100):\n",
    "    time.sleep(0.01)"
   ]
  },
  {
   "cell_type": "code",
   "execution_count": 16,
   "metadata": {},
   "outputs": [
    {
     "name": "stdout",
     "output_type": "stream",
     "text": [
      " "
     ]
    }
   ],
   "source": [
    "%prun \n",
    "#调用函数消耗时间情况"
   ]
  },
  {
   "cell_type": "code",
   "execution_count": null,
   "metadata": {
    "collapsed": true
   },
   "outputs": [],
   "source": [
    "%pdb\n",
    "#调试程序"
   ]
  },
  {
   "cell_type": "code",
   "execution_count": null,
   "metadata": {
    "collapsed": true
   },
   "outputs": [],
   "source": [
    "%run test.py \n",
    "#运行py文件\n",
    "%run test.ipynb\n",
    "#运行ipynb文件"
   ]
  },
  {
   "cell_type": "code",
   "execution_count": 1,
   "metadata": {},
   "outputs": [
    {
     "data": {
      "text/plain": [
       "'C:\\\\Users\\\\L\\\\jupyter'"
      ]
     },
     "execution_count": 1,
     "metadata": {},
     "output_type": "execute_result"
    }
   ],
   "source": [
    "%pwd"
   ]
  },
  {
   "cell_type": "code",
   "execution_count": null,
   "metadata": {
    "collapsed": true
   },
   "outputs": [],
   "source": []
  }
 ],
 "metadata": {
  "kernelspec": {
   "display_name": "Python 3",
   "language": "python",
   "name": "python3"
  },
  "language_info": {
   "codemirror_mode": {
    "name": "ipython",
    "version": 3
   },
   "file_extension": ".py",
   "mimetype": "text/x-python",
   "name": "python",
   "nbconvert_exporter": "python",
   "pygments_lexer": "ipython3",
   "version": "3.6.1"
  },
  "toc": {
   "colors": {
    "hover_highlight": "#DAA520",
    "navigate_num": "#000000",
    "navigate_text": "#333333",
    "running_highlight": "#FF0000",
    "selected_highlight": "#FFD700",
    "sidebar_border": "#EEEEEE",
    "wrapper_background": "#FFFFFF"
   },
   "moveMenuLeft": true,
   "nav_menu": {
    "height": "201px",
    "width": "252px"
   },
   "navigate_menu": true,
   "number_sections": true,
   "sideBar": true,
   "threshold": 4,
   "toc_cell": true,
   "toc_section_display": "block",
   "toc_window_display": true,
   "widenNotebook": false
  }
 },
 "nbformat": 4,
 "nbformat_minor": 2
}
