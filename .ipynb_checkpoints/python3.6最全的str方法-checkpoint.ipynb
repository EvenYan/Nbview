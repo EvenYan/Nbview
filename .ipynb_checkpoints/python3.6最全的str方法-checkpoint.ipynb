{
 "cells": [
  {
   "cell_type": "code",
   "execution_count": null,
   "metadata": {
    "collapsed": true
   },
   "outputs": [],
   "source": [
    "dir('')\n",
    "dir(str)\n",
    "#都可以查看字符对象可用的方法"
   ]
  },
  {
   "cell_type": "markdown",
   "metadata": {},
   "source": [
    "## capitalize …"
   ]
  },
  {
   "cell_type": "code",
   "execution_count": 34,
   "metadata": {
    "scrolled": true
   },
   "outputs": [
    {
     "data": {
      "text/plain": [
       "['capitalize',\n",
       " 'casefold',\n",
       " 'center',\n",
       " 'count',\n",
       " 'encode',\n",
       " 'endswith',\n",
       " 'expandtabs',\n",
       " 'find',\n",
       " 'format',\n",
       " 'format_map']"
      ]
     },
     "execution_count": 34,
     "metadata": {},
     "output_type": "execute_result"
    }
   ],
   "source": [
    "dir(str)[33:43]"
   ]
  },
  {
   "cell_type": "code",
   "execution_count": 291,
   "metadata": {
    "scrolled": true
   },
   "outputs": [
    {
     "name": "stdout",
     "output_type": "stream",
     "text": [
      "Abc.ss,dwd Abc\n"
     ]
    }
   ],
   "source": [
    "#S.capitalize()\n",
    "# 首字母大写 ,对于整个字符串\n",
    "#对比title()\n",
    "print('abc.ss'.capitalize(),'aBc'.capitalize())"
   ]
  },
  {
   "cell_type": "code",
   "execution_count": 62,
   "metadata": {},
   "outputs": [
    {
     "name": "stdout",
     "output_type": "stream",
     "text": [
      "abc-ss abc-ß\n"
     ]
    }
   ],
   "source": [
    "#S.casefold()\n",
    "# 转换为小写。\n",
    "# 与lower()的区别。casefold()针对Unicode字符，lower()仅针对ASCII（即A_Z）有效\n",
    "print('ABC-ß'.casefold(),'ABC-ß'.lower())"
   ]
  },
  {
   "cell_type": "code",
   "execution_count": 61,
   "metadata": {},
   "outputs": [
    {
     "name": "stdout",
     "output_type": "stream",
     "text": [
      "   abc     oooxyzoooo abcde\n"
     ]
    }
   ],
   "source": [
    "#S.center(width[, fillchar])\n",
    "# 返回一个原字符串居中，指定填充长度的字符串。\n",
    "# fillchar 指定填充字符，默认空格\n",
    "# 指定长度小于原字符时，不处理\n",
    "print('abc'.center(10), 'xyz'.center(10,'o'), 'abcde'.center(3))"
   ]
  },
  {
   "cell_type": "code",
   "execution_count": 74,
   "metadata": {},
   "outputs": [
    {
     "name": "stdout",
     "output_type": "stream",
     "text": [
      "2 ; 1 ; 0\n"
     ]
    }
   ],
   "source": [
    "#S.count(sub[, start[, end]])\n",
    "#计数,返回整数\n",
    "print('interesting'.count('in'),';','interesting'.count('in',1),';','interesting'.count('in',1,-4))"
   ]
  },
  {
   "cell_type": "code",
   "execution_count": 77,
   "metadata": {},
   "outputs": [
    {
     "name": "stdout",
     "output_type": "stream",
     "text": [
      "b'hello' ; <class 'bytes'>\n"
     ]
    }
   ],
   "source": [
    "#S.encode(encoding='utf-8', errors='strict')\n",
    "#编码，返回字节流对象\n",
    "#默认编码方式utf8。错误方式默认'strict',严格。\n",
    "print('hello'.encode(),';',type('hello'.encode()))"
   ]
  },
  {
   "cell_type": "code",
   "execution_count": 88,
   "metadata": {},
   "outputs": [
    {
     "name": "stdout",
     "output_type": "stream",
     "text": [
      "True\n",
      "False\n",
      "True\n"
     ]
    }
   ],
   "source": [
    "#S.endswith(suffix[, start[, end]]) -> bool\n",
    "#判断字符后缀,返回True 或 False\n",
    "#后缀可以是 tuple 类型\n",
    "#startswith() 反\n",
    "print('google.com'.endswith('.com'))\n",
    "print('google.com'.endswith('.com',2,5))\n",
    "print('google.com'.endswith(('.com','.cn'),2))"
   ]
  },
  {
   "cell_type": "code",
   "execution_count": 132,
   "metadata": {
    "scrolled": true
   },
   "outputs": [
    {
     "name": "stdout",
     "output_type": "stream",
     "text": [
      "False\n",
      "True\n",
      "True\n"
     ]
    }
   ],
   "source": [
    "#S.expandtabs(tabsize=8) -> str\n",
    "#将字符串中的制表符换成多个空格，默认是8个\n",
    "#相当于 S.replace('\\t',' '*8)\n",
    "print('\\t'.expandtabs()=='\\t')\n",
    "print('\\t'.expandtabs()==' '*8)\n",
    "print('\\t'.expandtabs()=='\\t'.replace('\\t',' '*8))"
   ]
  },
  {
   "cell_type": "code",
   "execution_count": 138,
   "metadata": {},
   "outputs": [
    {
     "name": "stdout",
     "output_type": "stream",
     "text": [
      "0\n",
      "8\n"
     ]
    }
   ],
   "source": [
    "#S.find(sub[, start[, end]]) -> int\n",
    "# 返回第一个匹配到的位置\n",
    "#S.rfind(sub[, start[, end]]) -> int 查找方向相反\n",
    "print('interesting'.find('in'))\n",
    "print('interesting'.find('in',2))\n",
    "?str.format"
   ]
  },
  {
   "cell_type": "code",
   "execution_count": 154,
   "metadata": {},
   "outputs": [
    {
     "name": "stdout",
     "output_type": "stream",
     "text": [
      "1 + 1 = 2\n",
      "c + b + a = a\n",
      "beijing is the capital of china\n",
      "0.33\n",
      "1010\n",
      "12\n",
      "a\n",
      "12,369,132,698\n",
      "###10###\n"
     ]
    }
   ],
   "source": [
    "# S.format(*args, **kwargs) -> str  格式化\n",
    "# 字典解包，索引\n",
    "print('{} + {} = {}'.format(1, 1, 1+1))\n",
    "print('{2} + {1} + {0} = {0}'.format('a', 'b', 'c'))\n",
    "print('{city} is the capital of {country}'.format(city='beijing',country='china'))\n",
    "\n",
    "#---转换\n",
    "print('{0:.2f}'.format(1/3)) #浮点数\n",
    "print('{:b}'.format(10)) #二进制\n",
    "print('{:o}'.format(10)) #八进制\n",
    "print('{:x}'.format(10)) #十六进制\n",
    "print('{:,}'.format(12369132698))  #千分位格式化\n",
    "\n",
    "#---填充\n",
    "#{:[填充字符][对齐方式 <^>][宽度]}\n",
    "print('{:#^8}'.format(10)) #十六进制"
   ]
  },
  {
   "cell_type": "code",
   "execution_count": 163,
   "metadata": {},
   "outputs": [
    {
     "name": "stdout",
     "output_type": "stream",
     "text": [
      "beijing is the capital of china\n"
     ]
    }
   ],
   "source": [
    "#S.format_map(mapping) -> str\n",
    "#参考format ， 传入字典，无需解包\n",
    "a={'city': 'beijing', 'country': 'china'}\n",
    "print('{city} is the capital of {country}'.format_map(a))"
   ]
  },
  {
   "cell_type": "markdown",
   "metadata": {},
   "source": [
    "## index …"
   ]
  },
  {
   "cell_type": "code",
   "execution_count": 230,
   "metadata": {
    "scrolled": false
   },
   "outputs": [
    {
     "data": {
      "text/plain": [
       "['index',\n",
       " 'isalnum',\n",
       " 'isalpha',\n",
       " 'isdecimal',\n",
       " 'isdigit',\n",
       " 'isidentifier',\n",
       " 'islower',\n",
       " 'isnumeric',\n",
       " 'isprintable',\n",
       " 'isspace',\n",
       " 'istitle',\n",
       " 'isupper']"
      ]
     },
     "execution_count": 230,
     "metadata": {},
     "output_type": "execute_result"
    }
   ],
   "source": [
    "dir(str)[43:55]"
   ]
  },
  {
   "cell_type": "code",
   "execution_count": 257,
   "metadata": {},
   "outputs": [
    {
     "name": "stdout",
     "output_type": "stream",
     "text": [
      "1\n",
      "4\n"
     ]
    }
   ],
   "source": [
    "#S.index() 类似 S.find() 。当查找的子串不存在时报错\n",
    "#S.rindex() 查找方向相反\n",
    "print('abcdb'.index('b'))\n",
    "print('abcdb'.rindex('b'))"
   ]
  },
  {
   "cell_type": "code",
   "execution_count": 231,
   "metadata": {},
   "outputs": [
    {
     "name": "stdout",
     "output_type": "stream",
     "text": [
      "True False False\n"
     ]
    }
   ],
   "source": [
    "#S.isalnum() -> bool\n",
    "#如果字符串不为空，且全为字母与数字，返回True ，否则返回False\n",
    "#字符串不能为空\n",
    "print('abc123'.isalnum(),'abc123\\t'.isalnum(),''.isalnum())\n",
    "\n",
    "#S.isalpha()    #全为字符\n",
    "\n",
    "#S.isdecimal()    #全为十进制数字\n",
    "\n",
    "#S.isdigit()    #全为数字\n",
    "\n",
    "#S.isidentifier  #合法标识符,实际上判断的是变量名是否合法\n",
    "\n",
    "#S.islower  #无大写字母\n",
    "\n",
    "#S.isnumeric   #全为数字\n",
    "\n",
    "#S.isprintable    #可打印字符,字符串包含不可打印字符，如转义字符，将返回False。\n",
    "\n",
    "#S.isspace   #全为whitespace\n",
    "\n",
    "#istitle   #是否每词首字母大写\n",
    "\n",
    "#isupper  #是否全是大写"
   ]
  },
  {
   "cell_type": "markdown",
   "metadata": {},
   "source": [
    "## jion…"
   ]
  },
  {
   "cell_type": "code",
   "execution_count": 233,
   "metadata": {},
   "outputs": [
    {
     "data": {
      "text/plain": [
       "['join',\n",
       " 'ljust',\n",
       " 'lower',\n",
       " 'lstrip',\n",
       " 'maketrans',\n",
       " 'partition',\n",
       " 'replace',\n",
       " 'rfind',\n",
       " 'rindex',\n",
       " 'rjust']"
      ]
     },
     "execution_count": 233,
     "metadata": {},
     "output_type": "execute_result"
    }
   ],
   "source": [
    "dir(str)[55:65]"
   ]
  },
  {
   "cell_type": "code",
   "execution_count": 243,
   "metadata": {
    "scrolled": true
   },
   "outputs": [
    {
     "name": "stdout",
     "output_type": "stream",
     "text": [
      "192.168.1.1\n"
     ]
    }
   ],
   "source": [
    "# S.join(iterable)  粘合\n",
    "\n",
    "print('.'.join(['192','168','1','1']))"
   ]
  },
  {
   "cell_type": "code",
   "execution_count": 249,
   "metadata": {},
   "outputs": [
    {
     "name": "stdout",
     "output_type": "stream",
     "text": [
      "abc11\n"
     ]
    }
   ],
   "source": [
    "# S.ljust(width[, fillchar]) 填充字符串左侧，默认用空格填充\n",
    "# S.rjust(width[, fillchar]) 填充字符串右侧，默认用空格填充\n",
    "print('abc'.ljust(5,'1'))\n",
    "?str.ljust"
   ]
  },
  {
   "cell_type": "code",
   "execution_count": 250,
   "metadata": {},
   "outputs": [
    {
     "name": "stdout",
     "output_type": "stream",
     "text": [
      "abc11\n"
     ]
    }
   ],
   "source": [
    "# S.lower 参考casefold\n",
    "#upper() "
   ]
  },
  {
   "cell_type": "code",
   "execution_count": 243,
   "metadata": {},
   "outputs": [
    {
     "name": "stdout",
     "output_type": "stream",
     "text": [
      "192.168.1.1\n"
     ]
    }
   ],
   "source": [
    "# S.join(iterable)  粘合\n",
    "\n",
    "print('.'.join(['192','168','1','1']))"
   ]
  },
  {
   "cell_type": "markdown",
   "metadata": {},
   "source": [
    "### strip、lstrip及rstrip"
   ]
  },
  {
   "cell_type": "code",
   "execution_count": 254,
   "metadata": {},
   "outputs": [
    {
     "name": "stdout",
     "output_type": "stream",
     "text": [
      "Help on built-in function lstrip:\n",
      "\n",
      "lstrip(...) method of builtins.str instance\n",
      "    S.lstrip([chars]) -> str\n",
      "    \n",
      "    Return a copy of the string S with leading whitespace removed.\n",
      "    If chars is given and not None, remove characters in chars instead.\n",
      "\n"
     ]
    }
   ],
   "source": [
    "help(''.lstrip)"
   ]
  },
  {
   "cell_type": "code",
   "execution_count": 253,
   "metadata": {},
   "outputs": [
    {
     "data": {
      "text/plain": [
       "'www.google.com'"
      ]
     },
     "execution_count": 253,
     "metadata": {},
     "output_type": "execute_result"
    }
   ],
   "source": [
    "#查去除开头处的空白或指定字符，或指定字符集\n",
    "\n",
    "#还有去除结尾处空白的方法，rstrip\n",
    "\n",
    "#首位空白 strip\n",
    "\n",
    "'  abc  '.lstrip()\n",
    "#'abc  '\n",
    "'  abc  '.rstrip()\n",
    "#'  abc'\n",
    "'  abc  '.strip()\n",
    "#'abc'\n",
    "'###www.google.com#%*'.strip('#%*')\n",
    "#'www.google.com'"
   ]
  },
  {
   "cell_type": "markdown",
   "metadata": {},
   "source": [
    "### maketrans \\ translate \\ replace\n",
    "translate() 根据映射表替换字符串中的字符\n",
    "\n",
    "Return a copy of the string S in which each character has been mapped through the given translation table.\n",
    "\n",
    "网上的大多提到用 maketrans() 得到映射表，但映射表到底是怎么回事呢。\n",
    "\n",
    "python3.4 之后 maketrans 是内建 str 的方法。"
   ]
  },
  {
   "cell_type": "code",
   "execution_count": 255,
   "metadata": {},
   "outputs": [
    {
     "data": {
      "text/plain": [
       "{97: 65, 98: 66, 99: 67}"
      ]
     },
     "execution_count": 255,
     "metadata": {},
     "output_type": "execute_result"
    }
   ],
   "source": [
    "tbl=str.maketrans('abc','ABC')\n",
    "\n",
    "tbl\n",
    "#{97: 65, 98: 66, 99: 67}"
   ]
  },
  {
   "cell_type": "markdown",
   "metadata": {},
   "source": [
    "所以 maketrans 生成的映射表是用字符的整数表示组成的字典。\n",
    "\n",
    "那么也可以这样用:\n",
    "    "
   ]
  },
  {
   "cell_type": "code",
   "execution_count": 7,
   "metadata": {},
   "outputs": [
    {
     "name": "stdout",
     "output_type": "stream",
     "text": [
      "Abcde\n",
      "bc\n"
     ]
    }
   ],
   "source": [
    "rs1 = 'abcde'.translate({ord('a'):ord('A')})\n",
    "#'Abcde'\n",
    "\n",
    "#可以用这个方法剔除特定字符\n",
    "rs2 = 'abc'.translate({ord('a'):None})\n",
    "print(rs2)\n",
    "#'bc'"
   ]
  },
  {
   "cell_type": "markdown",
   "metadata": {
    "collapsed": true
   },
   "source": [
    "至于帮助文档中说，这个 table 也可以是列表，还没有试出来该怎么实现。\n",
    "\n",
    "translate() 是字符的映射，replace() 是字符串的替换，两者有区别。"
   ]
  },
  {
   "cell_type": "code",
   "execution_count": 1,
   "metadata": {},
   "outputs": [
    {
     "data": {
      "text/plain": [
       "'ABCdeabfgabchi'"
      ]
     },
     "execution_count": 1,
     "metadata": {},
     "output_type": "execute_result"
    }
   ],
   "source": [
    "#S.replace(old, new[, count]) -> str； count=1表示只替换第一个匹配字符串\n",
    "'abcdeabfgabchi'.replace('abc','ABC',1)\n",
    "#'ABCdeabfgabchi'"
   ]
  },
  {
   "cell_type": "code",
   "execution_count": 260,
   "metadata": {
    "scrolled": true
   },
   "outputs": [
    {
     "name": "stdout",
     "output_type": "stream",
     "text": [
      "('a', 'b', 'c')\n",
      "('abc', '', '')\n"
     ]
    }
   ],
   "source": [
    "#S.partition(sep) -> (head, sep, tail)\n",
    "#分割成三部分，对比split\n",
    "#S.rpartition(sep) -> (head, sep, tail) 反向\n",
    "print('abc'.partition('b'))\n",
    "print('abc'.partition('d'))"
   ]
  },
  {
   "cell_type": "markdown",
   "metadata": {},
   "source": [
    "## index …"
   ]
  },
  {
   "cell_type": "code",
   "execution_count": 261,
   "metadata": {
    "scrolled": false
   },
   "outputs": [
    {
     "data": {
      "text/plain": [
       "['rpartition',\n",
       " 'rsplit',\n",
       " 'rstrip',\n",
       " 'split',\n",
       " 'splitlines',\n",
       " 'startswith',\n",
       " 'strip',\n",
       " 'swapcase',\n",
       " 'title',\n",
       " 'translate',\n",
       " 'upper',\n",
       " 'zfill']"
      ]
     },
     "execution_count": 261,
     "metadata": {},
     "output_type": "execute_result"
    }
   ],
   "source": [
    "dir(str)[65:]"
   ]
  },
  {
   "cell_type": "code",
   "execution_count": 271,
   "metadata": {},
   "outputs": [
    {
     "name": "stdout",
     "output_type": "stream",
     "text": [
      "['abc', 'ss', 'dd']\n",
      "['abc', 'ss', 'dd']\n",
      "['abc', 'ss.dd']\n"
     ]
    }
   ],
   "source": [
    "# S.split(sep=None, maxsplit=-1) -> list of strings\n",
    "#分割\n",
    "#rsplit 反方向\n",
    "print('abc ss dd'.split())\n",
    "print('abc.ss.dd'.split('.'))\n",
    "print('abc.ss.dd'.split('.',1))"
   ]
  },
  {
   "cell_type": "code",
   "execution_count": 286,
   "metadata": {},
   "outputs": [
    {
     "name": "stdout",
     "output_type": "stream",
     "text": [
      "['a', 'c', 'd']\n",
      "['a\\n', 'c\\n', 'd\\n']\n"
     ]
    }
   ],
   "source": [
    "#S.splitlines([keepends]) -> list of strings\n",
    "#分行  \n",
    "print('a\\nc\\nd\\n'.splitlines())\n",
    "print('a\\nc\\nd\\n'.splitlines(1))"
   ]
  },
  {
   "cell_type": "code",
   "execution_count": 287,
   "metadata": {},
   "outputs": [
    {
     "name": "stdout",
     "output_type": "stream",
     "text": [
      "aBc\n"
     ]
    }
   ],
   "source": [
    "# S.swapcase() -> str\n",
    "#大小写转换\n",
    "print('AbC'.swapcase())"
   ]
  },
  {
   "cell_type": "code",
   "execution_count": 288,
   "metadata": {},
   "outputs": [
    {
     "name": "stdout",
     "output_type": "stream",
     "text": [
      "Dsdw.Dwd\n"
     ]
    }
   ],
   "source": [
    "# S.title() -> str\n",
    "#所有单词首字母大写 对比capitalize()\n",
    "print('dsdw.dwd'.title())"
   ]
  },
  {
   "cell_type": "code",
   "execution_count": null,
   "metadata": {
    "collapsed": true
   },
   "outputs": [],
   "source": [
    "#upper()  参考lower()"
   ]
  },
  {
   "cell_type": "code",
   "execution_count": 3,
   "metadata": {},
   "outputs": [
    {
     "data": {
      "text/plain": [
       "'00w'"
      ]
     },
     "execution_count": 3,
     "metadata": {},
     "output_type": "execute_result"
    }
   ],
   "source": [
    "# S.zfill(width) -> str\n",
    "#用0扩展，不会缩减\n",
    "'w'.zfill(3)"
   ]
  }
 ],
 "metadata": {
  "kernelspec": {
   "display_name": "Python 3",
   "language": "python",
   "name": "python3"
  },
  "language_info": {
   "codemirror_mode": {
    "name": "ipython",
    "version": 3
   },
   "file_extension": ".py",
   "mimetype": "text/x-python",
   "name": "python",
   "nbconvert_exporter": "python",
   "pygments_lexer": "ipython3",
   "version": "3.6.1"
  },
  "toc": {
   "colors": {
    "hover_highlight": "#DAA520",
    "navigate_num": "#000000",
    "navigate_text": "#333333",
    "running_highlight": "#FF0000",
    "selected_highlight": "#FFD700",
    "sidebar_border": "#EEEEEE",
    "wrapper_background": "#FFFFFF"
   },
   "moveMenuLeft": true,
   "nav_menu": {
    "height": "51px",
    "width": "233px"
   },
   "navigate_menu": true,
   "number_sections": true,
   "sideBar": true,
   "threshold": 4,
   "toc_cell": false,
   "toc_section_display": "block",
   "toc_window_display": false,
   "widenNotebook": false
  }
 },
 "nbformat": 4,
 "nbformat_minor": 2
}
