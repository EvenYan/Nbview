{
 "cells": [
  {
   "cell_type": "markdown",
   "metadata": {},
   "source": [
    "#### 数据库\n",
    "输入以下mysql语句，回车运行"
   ]
  },
  {
   "cell_type": "code",
   "execution_count": null,
   "metadata": {
    "collapsed": true
   },
   "outputs": [],
   "source": [
    "#创建数据库\n",
    "CREATE DATABASE mytest1;\n",
    "\n",
    "#创建servers 表\n",
    "CREATE TABLE `mytest1`.`servers` (\n",
    "  `id` INT(11) NOT NULL AUTO_INCREMENT,\n",
    "  `RegionName` VARCHAR(45) NULL,\n",
    "  `Country` VARCHAR(45) NULL,\n",
    "  `City` VARCHAR(45) NULL,\n",
    "  `PPTP` VARCHAR(45) NULL,\n",
    "  `UDP` FLOAT NULL,\n",
    "  `TCP` VARCHAR(45) NULL,\n",
    "  PRIMARY KEY (`id`));\n",
    "\n",
    "#创建ping 表\n",
    "CREATE TABLE `mytest1`.`ping` (\n",
    "  `id` INT(11) NOT NULL,\n",
    "  `maxping` SMALLINT(8) UNSIGNED NULL,\n",
    "  `minping` SMALLINT(8) UNSIGNED NULL,\n",
    "  `aveping` SMALLINT(8) UNSIGNED NULL,\n",
    "  `timeout` INT(32) UNSIGNED NOT NULL DEFAULT 0,\n",
    "  `star` INT(32) UNSIGNED NOT NULL DEFAULT 0,\n",
    "  PRIMARY KEY (`id`));\n"
   ]
  },
  {
   "cell_type": "markdown",
   "metadata": {},
   "source": [
    "#### 运行爬虫程序"
   ]
  },
  {
   "cell_type": "code",
   "execution_count": null,
   "metadata": {
    "collapsed": true
   },
   "outputs": [],
   "source": [
    "run spider.py"
   ]
  },
  {
   "cell_type": "markdown",
   "metadata": {},
   "source": [
    "#### 运行交互程序"
   ]
  },
  {
   "cell_type": "code",
   "execution_count": 2,
   "metadata": {},
   "outputs": [],
   "source": [
    "run ping.py"
   ]
  }
 ],
 "metadata": {
  "kernelspec": {
   "display_name": "Python 3",
   "language": "python",
   "name": "python3"
  },
  "language_info": {
   "codemirror_mode": {
    "name": "ipython",
    "version": 3
   },
   "file_extension": ".py",
   "mimetype": "text/x-python",
   "name": "python",
   "nbconvert_exporter": "python",
   "pygments_lexer": "ipython3",
   "version": "3.6.1"
  },
  "toc": {
   "colors": {
    "hover_highlight": "#DAA520",
    "navigate_num": "#000000",
    "navigate_text": "#333333",
    "running_highlight": "#FF0000",
    "selected_highlight": "#FFD700",
    "sidebar_border": "#EEEEEE",
    "wrapper_background": "#FFFFFF"
   },
   "moveMenuLeft": true,
   "nav_menu": {
    "height": "12px",
    "width": "252px"
   },
   "navigate_menu": true,
   "number_sections": true,
   "sideBar": true,
   "threshold": 4,
   "toc_cell": false,
   "toc_section_display": "block",
   "toc_window_display": false,
   "widenNotebook": false
  }
 },
 "nbformat": 4,
 "nbformat_minor": 2
}
