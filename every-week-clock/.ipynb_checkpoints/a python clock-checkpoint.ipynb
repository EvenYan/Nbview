{
 "cells": [
  {
   "cell_type": "code",
   "execution_count": 2,
   "metadata": {
    "scrolled": true
   },
   "outputs": [
    {
     "name": "stdout",
     "output_type": "stream",
     "text": [
      "22731\n"
     ]
    }
   ],
   "source": [
    "#做一个定时闹钟，设置每周哪几天，每天何时执行\n",
    "\n",
    "import time\n",
    "\n",
    "wday_set = [1, 3, 6]  #设置星期几执行 0-6 对应周一至周日\n",
    "hour_set = [20, 2]  #设置小时\n",
    "min_set = [0]  #设置分钟\n",
    "\n",
    "\n",
    "def tran_to_week_sec(day=0, hour=0, minute=0, second=0):\n",
    "    return day*24*60*60 + hour*60*60 + minute*60 + second\n",
    "\n",
    "def run_time(wday_set, hour_set, min_set):\n",
    "    time_set = [tran_to_week_sec(i,j,k) for i in wday_set for j in hour_set for k in min_set]\n",
    "#     for i in wday_set:\n",
    "#         for j in hour_set:\n",
    "#             for k in min_set:   #3层for循环有没有好的优化方法，总觉得很不优雅\n",
    "#                 time_set.append(tran_to_week_sec(i,j, k))\n",
    "    \n",
    "    time_set.append(min(time_set)+7*24*60*60)\n",
    "    return time_set\n",
    "\n",
    "def func():\n",
    "    pass\n",
    "\n",
    "while True:\n",
    "    wday = time.localtime().tm_wday\n",
    "    hour = time.localtime().tm_hour\n",
    "    minute = time.localtime().tm_min\n",
    "    second = time.localtime().tm_sec\n",
    "    \n",
    "    now = tran_to_week_sec(wday, hour , minute, second)\n",
    "    time_set = run_time(wday_set, hour_set, min_set)\n",
    "    diff = min([ i - now for i in time_set if i - now > 0])\n",
    "    print(diff)\n",
    "    break    #for test\n",
    "#     time.sleep(diff)\n",
    "#     func()\n"
   ]
  }
 ],
 "metadata": {
  "kernelspec": {
   "display_name": "Python 3",
   "language": "python",
   "name": "python3"
  },
  "language_info": {
   "codemirror_mode": {
    "name": "ipython",
    "version": 3
   },
   "file_extension": ".py",
   "mimetype": "text/x-python",
   "name": "python",
   "nbconvert_exporter": "python",
   "pygments_lexer": "ipython3",
   "version": "3.6.1"
  },
  "toc": {
   "colors": {
    "hover_highlight": "#DAA520",
    "navigate_num": "#000000",
    "navigate_text": "#333333",
    "running_highlight": "#FF0000",
    "selected_highlight": "#FFD700",
    "sidebar_border": "#EEEEEE",
    "wrapper_background": "#FFFFFF"
   },
   "moveMenuLeft": true,
   "nav_menu": {
    "height": "12px",
    "width": "252px"
   },
   "navigate_menu": true,
   "number_sections": true,
   "sideBar": true,
   "threshold": 4,
   "toc_cell": false,
   "toc_section_display": "block",
   "toc_window_display": false,
   "widenNotebook": false
  }
 },
 "nbformat": 4,
 "nbformat_minor": 2
}
